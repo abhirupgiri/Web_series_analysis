from transformers import pipeline
print(2)