{
 "cells": [
  {
   "cell_type": "code",
   "execution_count": 1,
   "id": "d239082d",
   "metadata": {},
   "outputs": [
    {
     "name": "stderr",
     "output_type": "stream",
     "text": [
      "[nltk_data] Downloading package punkt to\n",
      "[nltk_data]     C:\\Users\\Asus\\AppData\\Roaming\\nltk_data...\n",
      "[nltk_data]   Package punkt is already up-to-date!\n"
     ]
    }
   ],
   "source": [
    "from transformers import pipeline\n",
    "from nltk import sent_tokenize\n",
    "import nltk\n",
    "nltk.download('punkt')\n",
    "import torch\n",
    "from glob import glob"
   ]
  },
  {
   "cell_type": "code",
   "execution_count": 2,
   "id": "5a0f09cb",
   "metadata": {},
   "outputs": [],
   "source": [
    "model_name = \"facebook/bart-large-mnli\"\n",
    "device = 'cuda' if torch.cuda.is_available() else 'cpu'\n",
    "def load_model(device):\n",
    "    theme_classifier = pipeline(\n",
    "        \"zero-shot-classification\",\n",
    "        model=model_name,\n",
    "        device=device,\n",
    "    )\n",
    "    return theme_classifier"
   ]
  },
  {
   "cell_type": "code",
   "execution_count": 3,
   "id": "279a5101",
   "metadata": {},
   "outputs": [
    {
     "name": "stderr",
     "output_type": "stream",
     "text": [
      "Device set to use cpu\n"
     ]
    }
   ],
   "source": [
    "theme_classifier = load_model(device)"
   ]
  },
  {
   "cell_type": "code",
   "execution_count": 4,
   "id": "13903997",
   "metadata": {},
   "outputs": [
    {
     "data": {
      "text/plain": [
       "{'sequence': 'If we pour KmnO4 solution into a solution of NaCl, a redox reaction occurs. The KMnO4 solution is purple in color and the NaCl solution is colorless. The KMnO4 solution is used as an oxidizing agent in this reaction.',\n",
       " 'labels': ['chemistry',\n",
       "  'physics',\n",
       "  'art',\n",
       "  'biology',\n",
       "  'literature',\n",
       "  'sports',\n",
       "  'geography',\n",
       "  'mathematics',\n",
       "  'music',\n",
       "  'history'],\n",
       " 'scores': [0.989816427230835,\n",
       "  0.35277464985847473,\n",
       "  0.07541731745004654,\n",
       "  0.038523685187101364,\n",
       "  0.013527500443160534,\n",
       "  0.008456285111606121,\n",
       "  0.005953287240117788,\n",
       "  0.005521595478057861,\n",
       "  0.004393058363348246,\n",
       "  0.001631166902370751]}"
      ]
     },
     "execution_count": 4,
     "metadata": {},
     "output_type": "execute_result"
    }
   ],
   "source": [
    "theme_list = [\"physics\", \"chemistry\", \"biology\", \"mathematics\", \"history\", \"geography\", \"literature\", \"art\", \"music\", \"sports\"]\n",
    "theme_classifier(\"If we pour KmnO4 solution into a solution of NaCl, a redox reaction occurs. The KMnO4 solution is purple in color and the NaCl solution is colorless. The KMnO4 solution is used as an oxidizing agent in this reaction.\",\n",
    "                 theme_list,\n",
    "                 multi_label=True\n",
    "    )"
   ]
  },
  {
   "cell_type": "code",
   "execution_count": 5,
   "id": "7b5f287a",
   "metadata": {},
   "outputs": [
    {
     "name": "stdout",
     "output_type": "stream",
     "text": [
      "Requirement already satisfied: pandas in c:\\users\\asus\\miniconda3\\envs\\pytorch_env\\lib\\site-packages (2.2.3)\n",
      "Requirement already satisfied: numpy>=1.26.0 in c:\\users\\asus\\miniconda3\\envs\\pytorch_env\\lib\\site-packages (from pandas) (1.26.4)\n",
      "Requirement already satisfied: python-dateutil>=2.8.2 in c:\\users\\asus\\miniconda3\\envs\\pytorch_env\\lib\\site-packages (from pandas) (2.9.0.post0)\n",
      "Requirement already satisfied: pytz>=2020.1 in c:\\users\\asus\\miniconda3\\envs\\pytorch_env\\lib\\site-packages (from pandas) (2025.2)\n",
      "Requirement already satisfied: tzdata>=2022.7 in c:\\users\\asus\\miniconda3\\envs\\pytorch_env\\lib\\site-packages (from pandas) (2025.2)\n",
      "Requirement already satisfied: six>=1.5 in c:\\users\\asus\\miniconda3\\envs\\pytorch_env\\lib\\site-packages (from python-dateutil>=2.8.2->pandas) (1.17.0)\n"
     ]
    }
   ],
   "source": [
    "!pip install pandas\n",
    "import pandas as pd"
   ]
  },
  {
   "cell_type": "code",
   "execution_count": 6,
   "id": "05016f34",
   "metadata": {},
   "outputs": [
    {
     "data": {
      "text/html": [
       "<div>\n",
       "<style scoped>\n",
       "    .dataframe tbody tr th:only-of-type {\n",
       "        vertical-align: middle;\n",
       "    }\n",
       "\n",
       "    .dataframe tbody tr th {\n",
       "        vertical-align: top;\n",
       "    }\n",
       "\n",
       "    .dataframe thead th {\n",
       "        text-align: right;\n",
       "    }\n",
       "</style>\n",
       "<table border=\"1\" class=\"dataframe\">\n",
       "  <thead>\n",
       "    <tr style=\"text-align: right;\">\n",
       "      <th></th>\n",
       "      <th>episode</th>\n",
       "      <th>script</th>\n",
       "    </tr>\n",
       "  </thead>\n",
       "  <tbody>\n",
       "    <tr>\n",
       "      <th>0</th>\n",
       "      <td>1</td>\n",
       "      <td>A long time ago, a powerful demon fox appeared...</td>\n",
       "    </tr>\n",
       "    <tr>\n",
       "      <th>1</th>\n",
       "      <td>2</td>\n",
       "      <td>C'mon!\\n Running like a fugitive,\\n Being chas...</td>\n",
       "    </tr>\n",
       "    <tr>\n",
       "      <th>2</th>\n",
       "      <td>3</td>\n",
       "      <td>C'mon!\\n Running like a fugitive,\\n Being chas...</td>\n",
       "    </tr>\n",
       "    <tr>\n",
       "      <th>3</th>\n",
       "      <td>4</td>\n",
       "      <td>C'mon!\\n Running like a fugitive,\\n Being chas...</td>\n",
       "    </tr>\n",
       "    <tr>\n",
       "      <th>4</th>\n",
       "      <td>5</td>\n",
       "      <td>C'mon!\\n Running like a fugitive,\\n Being chas...</td>\n",
       "    </tr>\n",
       "  </tbody>\n",
       "</table>\n",
       "</div>"
      ],
      "text/plain": [
       "   episode                                             script\n",
       "0        1  A long time ago, a powerful demon fox appeared...\n",
       "1        2  C'mon!\\n Running like a fugitive,\\n Being chas...\n",
       "2        3  C'mon!\\n Running like a fugitive,\\n Being chas...\n",
       "3        4  C'mon!\\n Running like a fugitive,\\n Being chas...\n",
       "4        5  C'mon!\\n Running like a fugitive,\\n Being chas..."
      ]
     },
     "execution_count": 6,
     "metadata": {},
     "output_type": "execute_result"
    }
   ],
   "source": [
    "def load_subtitles_dataset(dataset_path):\n",
    "    subtitles_path = glob(dataset_path+\"/*.ass\")\n",
    "    scripts=[]\n",
    "    episode_num=[]\n",
    "    for path in subtitles_path:\n",
    "        with open(path,'r') as file:\n",
    "            lines = file.readlines()\n",
    "            lines = lines[27:]\n",
    "            lines = [\",\".join(line.split(\",\")[9:]) for line in lines]\n",
    "        lines = [ line.replace(\"\\\\N\",\" \") for line in lines]\n",
    "        script = \" \".join(lines)\n",
    "        episode = int(path.split(\"-\")[-1].split(\".\")[0].strip())\n",
    "        scripts.append(script)\n",
    "        episode_num.append(episode)\n",
    "    df = pd.DataFrame({\"episode\": episode_num, \"script\": scripts})\n",
    "    return df\n",
    "\n",
    "dataset_path = \"../data/Subtitles\"\n",
    "df = load_subtitles_dataset(dataset_path)\n",
    "df.head()"
   ]
  },
  {
   "cell_type": "code",
   "execution_count": 7,
   "id": "4c3958c5",
   "metadata": {},
   "outputs": [
    {
     "data": {
      "text/plain": [
       "['A long time ago, a powerful demon fox appeared with nine tails.',\n",
       " 'With its powerful tails,\\n it could smash mountains and create tidal waves.',\n",
       " 'A band of Ninjas rose to defend their village from attack.']"
      ]
     },
     "execution_count": 7,
     "metadata": {},
     "output_type": "execute_result"
    }
   ],
   "source": [
    "script = df.iloc[0]['script']\n",
    "script_sentences = sent_tokenize(script)\n",
    "script_sentences[:3]"
   ]
  },
  {
   "cell_type": "code",
   "execution_count": 8,
   "id": "f1d0ff14",
   "metadata": {},
   "outputs": [
    {
     "data": {
      "text/plain": [
       "[\"A long time ago, a powerful demon fox appeared with nine tails. With its powerful tails,\\n it could smash mountains and create tidal waves. A band of Ninjas rose to defend their village from attack. We have to wait until the Fourth Hokage gets here! We can't let it get any closer to our village! One great Ninja was able to imprison the monster,\\n but died in the process. This Ninja was known as… the Fourth Hokage. Naruto! Why did you do such a thing?! You're really gonna get it this time! I don't care! You know your problem? You can't do the things I do! Only I can do this! I'm better than all of you! Believe it! There's a problem, sir! Lord Hokage! What is it? Did that Naruto do something again?\",\n",
       " 'Yes. He climbed onto the Mountainside Images…\\n And he vandalized and graffitied all over them! Wait! Ha ha…\\n Why should I? Hey, Naruto! How did you suddenly get here, lruka Sensei? The question is what are you doing here when you should be in class now? Now listen, Naruto. You failed the last graduation test and the one before that. This is no time to be goofing off, you fool! We will have a re-test on the Transformation Jutsu! Even those who already passed will take it! Whaaaat?! Sakura Haruno. Here I go…\\n Transform! OK! I did it! Cha! Did you see that, Sasuke? Next, Sasuke Uchiha.',\n",
       " 'Yes. O-OK.\\n Next, Naruto Uzumaki. This is a real pain. And it\\'s all your fault. Like I care!! OK…\\n Good luck, Naruto…\\n Transform! How was it? I call it the \"Sexy Jutsu\"! You fool! Stop making idiotic spells! Darn…\\n Darn…\\n I won\\'t let you go home unless you clean that all up. I don\\'t care…\\n There\\'s nobody home anyway. Naruto...\\n What is it this time? What I meant was…\\n If you clean up all that mess, I\\'ll buy you ramen tonight. Huh?! Yes! I-I will finish it no time! Enter: Naruto Uzumaki! Naruto. Why did you vandalize those faces?']"
      ]
     },
     "execution_count": 8,
     "metadata": {},
     "output_type": "execute_result"
    }
   ],
   "source": [
    "script_batch_size=20\n",
    "script_batches=[]\n",
    "for i in range(0, len(script_sentences), script_batch_size):\n",
    "    sent=\" \".join(script_sentences[i:i+script_batch_size])\n",
    "    script_batches.append(sent)\n",
    "script_batches[:3]"
   ]
  },
  {
   "cell_type": "code",
   "execution_count": 9,
   "id": "8e300ef8",
   "metadata": {},
   "outputs": [
    {
     "data": {
      "text/plain": [
       "[{'sequence': \"A long time ago, a powerful demon fox appeared with nine tails. With its powerful tails,\\n it could smash mountains and create tidal waves. A band of Ninjas rose to defend their village from attack. We have to wait until the Fourth Hokage gets here! We can't let it get any closer to our village! One great Ninja was able to imprison the monster,\\n but died in the process. This Ninja was known as… the Fourth Hokage. Naruto! Why did you do such a thing?! You're really gonna get it this time! I don't care! You know your problem? You can't do the things I do! Only I can do this! I'm better than all of you! Believe it! There's a problem, sir! Lord Hokage! What is it? Did that Naruto do something again?\",\n",
       "  'labels': ['dialogue',\n",
       "   'betrayal',\n",
       "   'battle',\n",
       "   'sacrifice',\n",
       "   'self developement',\n",
       "   'hope',\n",
       "   'friendship',\n",
       "   'love'],\n",
       "  'scores': [0.9800741672515869,\n",
       "   0.939690351486206,\n",
       "   0.8546885251998901,\n",
       "   0.7349815964698792,\n",
       "   0.6545649170875549,\n",
       "   0.19909819960594177,\n",
       "   0.05922342836856842,\n",
       "   0.040261901915073395]},\n",
       " {'sequence': 'Yes. He climbed onto the Mountainside Images…\\n And he vandalized and graffitied all over them! Wait! Ha ha…\\n Why should I? Hey, Naruto! How did you suddenly get here, lruka Sensei? The question is what are you doing here when you should be in class now? Now listen, Naruto. You failed the last graduation test and the one before that. This is no time to be goofing off, you fool! We will have a re-test on the Transformation Jutsu! Even those who already passed will take it! Whaaaat?! Sakura Haruno. Here I go…\\n Transform! OK! I did it! Cha! Did you see that, Sasuke? Next, Sasuke Uchiha.',\n",
       "  'labels': ['dialogue',\n",
       "   'self developement',\n",
       "   'battle',\n",
       "   'betrayal',\n",
       "   'sacrifice',\n",
       "   'hope',\n",
       "   'friendship',\n",
       "   'love'],\n",
       "  'scores': [0.9370126724243164,\n",
       "   0.8029875159263611,\n",
       "   0.6581321954727173,\n",
       "   0.6457260847091675,\n",
       "   0.6258837580680847,\n",
       "   0.2042398601770401,\n",
       "   0.08603370934724808,\n",
       "   0.02802049182355404]},\n",
       " {'sequence': 'Yes. O-OK.\\n Next, Naruto Uzumaki. This is a real pain. And it\\'s all your fault. Like I care!! OK…\\n Good luck, Naruto…\\n Transform! How was it? I call it the \"Sexy Jutsu\"! You fool! Stop making idiotic spells! Darn…\\n Darn…\\n I won\\'t let you go home unless you clean that all up. I don\\'t care…\\n There\\'s nobody home anyway. Naruto...\\n What is it this time? What I meant was…\\n If you clean up all that mess, I\\'ll buy you ramen tonight. Huh?! Yes! I-I will finish it no time! Enter: Naruto Uzumaki! Naruto. Why did you vandalize those faces?',\n",
       "  'labels': ['dialogue',\n",
       "   'battle',\n",
       "   'betrayal',\n",
       "   'self developement',\n",
       "   'sacrifice',\n",
       "   'hope',\n",
       "   'friendship',\n",
       "   'love'],\n",
       "  'scores': [0.9554803371429443,\n",
       "   0.7520479559898376,\n",
       "   0.734232485294342,\n",
       "   0.6884000897407532,\n",
       "   0.5151649117469788,\n",
       "   0.5138541460037231,\n",
       "   0.3491247892379761,\n",
       "   0.19979576766490936]}]"
      ]
     },
     "execution_count": 9,
     "metadata": {},
     "output_type": "execute_result"
    }
   ],
   "source": [
    "theme_list= [\"dialogue\",\"betrayal\",\"sacrifice\",\"self developement\",\"hope\",\"friendship\",\"love\",\"battle\"]\n",
    "theme_output = theme_classifier(\n",
    "    script_batches[0:3],\n",
    "    theme_list,\n",
    "    multi_label=True\n",
    ")\n",
    "theme_output "
   ]
  },
  {
   "cell_type": "code",
   "execution_count": 10,
   "id": "d7268f53",
   "metadata": {},
   "outputs": [
    {
     "data": {
      "text/plain": [
       "{'dialogue': [0.9800741672515869, 0.9370126724243164, 0.9554803371429443],\n",
       " 'betrayal': [0.939690351486206, 0.6457260847091675, 0.734232485294342],\n",
       " 'battle': [0.8546885251998901, 0.6581321954727173, 0.7520479559898376],\n",
       " 'sacrifice': [0.7349815964698792, 0.6258837580680847, 0.5151649117469788],\n",
       " 'self developement': [0.6545649170875549,\n",
       "  0.8029875159263611,\n",
       "  0.6884000897407532],\n",
       " 'hope': [0.19909819960594177, 0.2042398601770401, 0.5138541460037231],\n",
       " 'friendship': [0.05922342836856842, 0.08603370934724808, 0.3491247892379761],\n",
       " 'love': [0.040261901915073395, 0.02802049182355404, 0.19979576766490936]}"
      ]
     },
     "execution_count": 10,
     "metadata": {},
     "output_type": "execute_result"
    }
   ],
   "source": [
    "themes ={}\n",
    "for output in theme_output:\n",
    "    for label,score in zip(output['labels'],output['scores']):\n",
    "        if label not in themes:\n",
    "            themes[label]=[]\n",
    "        themes[label].append(score)\n",
    "themes"
   ]
  },
  {
   "cell_type": "code",
   "execution_count": 11,
   "id": "4d271c09",
   "metadata": {},
   "outputs": [
    {
     "data": {
      "text/plain": [
       "{'dialogue': 0.9575223922729492,\n",
       " 'betrayal': 0.7732163071632385,\n",
       " 'battle': 0.7549562255541483,\n",
       " 'sacrifice': 0.6253434220949808,\n",
       " 'self developement': 0.7153175075848898,\n",
       " 'hope': 0.305730735262235,\n",
       " 'friendship': 0.1647939756512642,\n",
       " 'love': 0.08935938713451226}"
      ]
     },
     "execution_count": 11,
     "metadata": {},
     "output_type": "execute_result"
    }
   ],
   "source": [
    "import numpy as np\n",
    "themes = {key: np.mean(np.array(value)) for key,value in themes.items()}\n",
    "themes"
   ]
  },
  {
   "cell_type": "code",
   "execution_count": 12,
   "id": "a7d3d011",
   "metadata": {},
   "outputs": [],
   "source": [
    "def get_themes_inference(script):\n",
    "    script_sentences = sent_tokenize(script)\n",
    "    script_batch_size=20\n",
    "    script_batches=[]\n",
    "    for i in range(0, len(script_sentences), script_batch_size):\n",
    "        sent=\" \".join(script_sentences[i:i+script_batch_size])\n",
    "        script_batches.append(sent)\n",
    "    theme_output = theme_classifier(\n",
    "        script_batches,\n",
    "        theme_list,\n",
    "        multi_label=True\n",
    "    )\n",
    "    themes ={}\n",
    "    for output in theme_output:\n",
    "        for label,score in zip(output['labels'],output['scores']):\n",
    "            if label not in themes:\n",
    "                themes[label]=[]\n",
    "            themes[label].append(score)\n",
    "    themes = {key: np.mean(np.array(value)) for key,value in themes.items()}\n",
    "    return themes"
   ]
  },
  {
   "cell_type": "code",
   "execution_count": 14,
   "id": "64c1a203",
   "metadata": {},
   "outputs": [],
   "source": [
    "df_temp = df[:2]\n",
    "df_temp\n",
    "output_themes = df_temp[\"script\"].apply(get_themes_inference)"
   ]
  },
  {
   "cell_type": "code",
   "execution_count": 15,
   "id": "4fd211ef",
   "metadata": {},
   "outputs": [
    {
     "data": {
      "text/html": [
       "<div>\n",
       "<style scoped>\n",
       "    .dataframe tbody tr th:only-of-type {\n",
       "        vertical-align: middle;\n",
       "    }\n",
       "\n",
       "    .dataframe tbody tr th {\n",
       "        vertical-align: top;\n",
       "    }\n",
       "\n",
       "    .dataframe thead th {\n",
       "        text-align: right;\n",
       "    }\n",
       "</style>\n",
       "<table border=\"1\" class=\"dataframe\">\n",
       "  <thead>\n",
       "    <tr style=\"text-align: right;\">\n",
       "      <th></th>\n",
       "      <th>dialogue</th>\n",
       "      <th>betrayal</th>\n",
       "      <th>battle</th>\n",
       "      <th>sacrifice</th>\n",
       "      <th>self developement</th>\n",
       "      <th>hope</th>\n",
       "      <th>friendship</th>\n",
       "      <th>love</th>\n",
       "    </tr>\n",
       "  </thead>\n",
       "  <tbody>\n",
       "    <tr>\n",
       "      <th>0</th>\n",
       "      <td>0.933066</td>\n",
       "      <td>0.843437</td>\n",
       "      <td>0.730704</td>\n",
       "      <td>0.738852</td>\n",
       "      <td>0.738627</td>\n",
       "      <td>0.356776</td>\n",
       "      <td>0.270747</td>\n",
       "      <td>0.171008</td>\n",
       "    </tr>\n",
       "    <tr>\n",
       "      <th>1</th>\n",
       "      <td>0.878907</td>\n",
       "      <td>0.523089</td>\n",
       "      <td>0.614092</td>\n",
       "      <td>0.560679</td>\n",
       "      <td>0.666437</td>\n",
       "      <td>0.360577</td>\n",
       "      <td>0.199374</td>\n",
       "      <td>0.126210</td>\n",
       "    </tr>\n",
       "  </tbody>\n",
       "</table>\n",
       "</div>"
      ],
      "text/plain": [
       "   dialogue  betrayal    battle  sacrifice  self developement      hope  \\\n",
       "0  0.933066  0.843437  0.730704   0.738852           0.738627  0.356776   \n",
       "1  0.878907  0.523089  0.614092   0.560679           0.666437  0.360577   \n",
       "\n",
       "   friendship      love  \n",
       "0    0.270747  0.171008  \n",
       "1    0.199374  0.126210  "
      ]
     },
     "execution_count": 15,
     "metadata": {},
     "output_type": "execute_result"
    }
   ],
   "source": [
    "output_themes\n",
    "theme_df = pd.DataFrame(output_themes.tolist())\n",
    "theme_df"
   ]
  },
  {
   "cell_type": "code",
   "execution_count": 16,
   "id": "aaa96134",
   "metadata": {},
   "outputs": [
    {
     "name": "stderr",
     "output_type": "stream",
     "text": [
      "C:\\Users\\Asus\\AppData\\Local\\Temp\\ipykernel_16072\\2183799632.py:1: SettingWithCopyWarning: \n",
      "A value is trying to be set on a copy of a slice from a DataFrame.\n",
      "Try using .loc[row_indexer,col_indexer] = value instead\n",
      "\n",
      "See the caveats in the documentation: https://pandas.pydata.org/pandas-docs/stable/user_guide/indexing.html#returning-a-view-versus-a-copy\n",
      "  df_temp[theme_df.columns] = theme_df\n",
      "C:\\Users\\Asus\\AppData\\Local\\Temp\\ipykernel_16072\\2183799632.py:1: SettingWithCopyWarning: \n",
      "A value is trying to be set on a copy of a slice from a DataFrame.\n",
      "Try using .loc[row_indexer,col_indexer] = value instead\n",
      "\n",
      "See the caveats in the documentation: https://pandas.pydata.org/pandas-docs/stable/user_guide/indexing.html#returning-a-view-versus-a-copy\n",
      "  df_temp[theme_df.columns] = theme_df\n",
      "C:\\Users\\Asus\\AppData\\Local\\Temp\\ipykernel_16072\\2183799632.py:1: SettingWithCopyWarning: \n",
      "A value is trying to be set on a copy of a slice from a DataFrame.\n",
      "Try using .loc[row_indexer,col_indexer] = value instead\n",
      "\n",
      "See the caveats in the documentation: https://pandas.pydata.org/pandas-docs/stable/user_guide/indexing.html#returning-a-view-versus-a-copy\n",
      "  df_temp[theme_df.columns] = theme_df\n",
      "C:\\Users\\Asus\\AppData\\Local\\Temp\\ipykernel_16072\\2183799632.py:1: SettingWithCopyWarning: \n",
      "A value is trying to be set on a copy of a slice from a DataFrame.\n",
      "Try using .loc[row_indexer,col_indexer] = value instead\n",
      "\n",
      "See the caveats in the documentation: https://pandas.pydata.org/pandas-docs/stable/user_guide/indexing.html#returning-a-view-versus-a-copy\n",
      "  df_temp[theme_df.columns] = theme_df\n",
      "C:\\Users\\Asus\\AppData\\Local\\Temp\\ipykernel_16072\\2183799632.py:1: SettingWithCopyWarning: \n",
      "A value is trying to be set on a copy of a slice from a DataFrame.\n",
      "Try using .loc[row_indexer,col_indexer] = value instead\n",
      "\n",
      "See the caveats in the documentation: https://pandas.pydata.org/pandas-docs/stable/user_guide/indexing.html#returning-a-view-versus-a-copy\n",
      "  df_temp[theme_df.columns] = theme_df\n",
      "C:\\Users\\Asus\\AppData\\Local\\Temp\\ipykernel_16072\\2183799632.py:1: SettingWithCopyWarning: \n",
      "A value is trying to be set on a copy of a slice from a DataFrame.\n",
      "Try using .loc[row_indexer,col_indexer] = value instead\n",
      "\n",
      "See the caveats in the documentation: https://pandas.pydata.org/pandas-docs/stable/user_guide/indexing.html#returning-a-view-versus-a-copy\n",
      "  df_temp[theme_df.columns] = theme_df\n",
      "C:\\Users\\Asus\\AppData\\Local\\Temp\\ipykernel_16072\\2183799632.py:1: SettingWithCopyWarning: \n",
      "A value is trying to be set on a copy of a slice from a DataFrame.\n",
      "Try using .loc[row_indexer,col_indexer] = value instead\n",
      "\n",
      "See the caveats in the documentation: https://pandas.pydata.org/pandas-docs/stable/user_guide/indexing.html#returning-a-view-versus-a-copy\n",
      "  df_temp[theme_df.columns] = theme_df\n",
      "C:\\Users\\Asus\\AppData\\Local\\Temp\\ipykernel_16072\\2183799632.py:1: SettingWithCopyWarning: \n",
      "A value is trying to be set on a copy of a slice from a DataFrame.\n",
      "Try using .loc[row_indexer,col_indexer] = value instead\n",
      "\n",
      "See the caveats in the documentation: https://pandas.pydata.org/pandas-docs/stable/user_guide/indexing.html#returning-a-view-versus-a-copy\n",
      "  df_temp[theme_df.columns] = theme_df\n"
     ]
    },
    {
     "data": {
      "text/html": [
       "<div>\n",
       "<style scoped>\n",
       "    .dataframe tbody tr th:only-of-type {\n",
       "        vertical-align: middle;\n",
       "    }\n",
       "\n",
       "    .dataframe tbody tr th {\n",
       "        vertical-align: top;\n",
       "    }\n",
       "\n",
       "    .dataframe thead th {\n",
       "        text-align: right;\n",
       "    }\n",
       "</style>\n",
       "<table border=\"1\" class=\"dataframe\">\n",
       "  <thead>\n",
       "    <tr style=\"text-align: right;\">\n",
       "      <th></th>\n",
       "      <th>episode</th>\n",
       "      <th>script</th>\n",
       "      <th>dialogue</th>\n",
       "      <th>betrayal</th>\n",
       "      <th>battle</th>\n",
       "      <th>sacrifice</th>\n",
       "      <th>self developement</th>\n",
       "      <th>hope</th>\n",
       "      <th>friendship</th>\n",
       "      <th>love</th>\n",
       "    </tr>\n",
       "  </thead>\n",
       "  <tbody>\n",
       "    <tr>\n",
       "      <th>0</th>\n",
       "      <td>1</td>\n",
       "      <td>A long time ago, a powerful demon fox appeared...</td>\n",
       "      <td>0.933066</td>\n",
       "      <td>0.843437</td>\n",
       "      <td>0.730704</td>\n",
       "      <td>0.738852</td>\n",
       "      <td>0.738627</td>\n",
       "      <td>0.356776</td>\n",
       "      <td>0.270747</td>\n",
       "      <td>0.171008</td>\n",
       "    </tr>\n",
       "    <tr>\n",
       "      <th>1</th>\n",
       "      <td>2</td>\n",
       "      <td>C'mon!\\n Running like a fugitive,\\n Being chas...</td>\n",
       "      <td>0.878907</td>\n",
       "      <td>0.523089</td>\n",
       "      <td>0.614092</td>\n",
       "      <td>0.560679</td>\n",
       "      <td>0.666437</td>\n",
       "      <td>0.360577</td>\n",
       "      <td>0.199374</td>\n",
       "      <td>0.126210</td>\n",
       "    </tr>\n",
       "  </tbody>\n",
       "</table>\n",
       "</div>"
      ],
      "text/plain": [
       "   episode                                             script  dialogue  \\\n",
       "0        1  A long time ago, a powerful demon fox appeared...  0.933066   \n",
       "1        2  C'mon!\\n Running like a fugitive,\\n Being chas...  0.878907   \n",
       "\n",
       "   betrayal    battle  sacrifice  self developement      hope  friendship  \\\n",
       "0  0.843437  0.730704   0.738852           0.738627  0.356776    0.270747   \n",
       "1  0.523089  0.614092   0.560679           0.666437  0.360577    0.199374   \n",
       "\n",
       "       love  \n",
       "0  0.171008  \n",
       "1  0.126210  "
      ]
     },
     "execution_count": 16,
     "metadata": {},
     "output_type": "execute_result"
    }
   ],
   "source": [
    "df_temp[theme_df.columns] = theme_df\n",
    "df_temp"
   ]
  },
  {
   "cell_type": "code",
   "execution_count": 27,
   "id": "89d024d6",
   "metadata": {},
   "outputs": [
    {
     "data": {
      "text/html": [
       "<div>\n",
       "<style scoped>\n",
       "    .dataframe tbody tr th:only-of-type {\n",
       "        vertical-align: middle;\n",
       "    }\n",
       "\n",
       "    .dataframe tbody tr th {\n",
       "        vertical-align: top;\n",
       "    }\n",
       "\n",
       "    .dataframe thead th {\n",
       "        text-align: right;\n",
       "    }\n",
       "</style>\n",
       "<table border=\"1\" class=\"dataframe\">\n",
       "  <thead>\n",
       "    <tr style=\"text-align: right;\">\n",
       "      <th></th>\n",
       "      <th>theme</th>\n",
       "      <th>score</th>\n",
       "    </tr>\n",
       "  </thead>\n",
       "  <tbody>\n",
       "    <tr>\n",
       "      <th>0</th>\n",
       "      <td>betrayal</td>\n",
       "      <td>1.366526</td>\n",
       "    </tr>\n",
       "    <tr>\n",
       "      <th>1</th>\n",
       "      <td>battle</td>\n",
       "      <td>1.344796</td>\n",
       "    </tr>\n",
       "    <tr>\n",
       "      <th>2</th>\n",
       "      <td>sacrifice</td>\n",
       "      <td>1.299531</td>\n",
       "    </tr>\n",
       "    <tr>\n",
       "      <th>3</th>\n",
       "      <td>self developement</td>\n",
       "      <td>1.405064</td>\n",
       "    </tr>\n",
       "    <tr>\n",
       "      <th>4</th>\n",
       "      <td>hope</td>\n",
       "      <td>0.717353</td>\n",
       "    </tr>\n",
       "    <tr>\n",
       "      <th>5</th>\n",
       "      <td>friendship</td>\n",
       "      <td>0.470121</td>\n",
       "    </tr>\n",
       "    <tr>\n",
       "      <th>6</th>\n",
       "      <td>love</td>\n",
       "      <td>0.297218</td>\n",
       "    </tr>\n",
       "  </tbody>\n",
       "</table>\n",
       "</div>"
      ],
      "text/plain": [
       "               theme     score\n",
       "0           betrayal  1.366526\n",
       "1             battle  1.344796\n",
       "2          sacrifice  1.299531\n",
       "3  self developement  1.405064\n",
       "4               hope  0.717353\n",
       "5         friendship  0.470121\n",
       "6               love  0.297218"
      ]
     },
     "execution_count": 27,
     "metadata": {},
     "output_type": "execute_result"
    }
   ],
   "source": [
    "theme_out=df_temp.drop(['dialogue','episode','script'], axis=1).sum().reset_index()\n",
    "theme_out.columns = ['theme','score']\n",
    "theme_out"
   ]
  },
  {
   "cell_type": "code",
   "execution_count": 32,
   "id": "47c97600",
   "metadata": {},
   "outputs": [
    {
     "data": {
      "image/png": "[encoded data removed]",
      "text/plain": [
       "<Figure size 640x480 with 1 Axes>"
      ]
     },
     "metadata": {},
     "output_type": "display_data"
    }
   ],
   "source": [
    "import matplotlib.pyplot as plt\n",
    "import seaborn as sns\n",
    "plt.xticks(rotation=90)\n",
    "sns.barplot(data=theme_out, x='theme', y='score')\n",
    "plt.show()\n"
   ]
  },
  {
   "cell_type": "code",
   "execution_count": null,
   "id": "3e19ac53",
   "metadata": {},
   "outputs": [],
   "source": []
  }
 ],
 "metadata": {
  "kernelspec": {
   "display_name": "pytorch_env",
   "language": "python",
   "name": "python3"
  },
  "language_info": {
   "codemirror_mode": {
    "name": "ipython",
    "version": 3
   },
   "file_extension": ".py",
   "mimetype": "text/x-python",
   "name": "python",
   "nbconvert_exporter": "python",
   "pygments_lexer": "ipython3",
   "version": "3.12.8"
  }
 },
 "nbformat": 4,
 "nbformat_minor": 5
}
